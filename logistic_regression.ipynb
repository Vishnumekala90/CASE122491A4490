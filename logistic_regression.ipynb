{
  "nbformat": 4,
  "nbformat_minor": 0,
  "metadata": {
    "colab": {
      "provenance": [],
      "authorship_tag": "ABX9TyP2HJqekj7zt+PzhQPqjS0y",
      "include_colab_link": true
    },
    "kernelspec": {
      "name": "python3",
      "display_name": "Python 3"
    },
    "language_info": {
      "name": "python"
    }
  },
  "cells": [
    {
      "cell_type": "markdown",
      "metadata": {
        "id": "view-in-github",
        "colab_type": "text"
      },
      "source": [
        "<a href=\"https://colab.research.google.com/github/Vishnumekala90/CASE122491A4490/blob/main/logistic_regression.ipynb\" target=\"_parent\"><img src=\"https://colab.research.google.com/assets/colab-badge.svg\" alt=\"Open In Colab\"/></a>"
      ]
    },
    {
      "cell_type": "code",
      "execution_count": 5,
      "metadata": {
        "colab": {
          "base_uri": "https://localhost:8080/"
        },
        "id": "tOCjnMnfDcUm",
        "outputId": "9858993d-38b3-491a-9934-636377c40f56"
      },
      "outputs": [
        {
          "output_type": "stream",
          "name": "stdout",
          "text": [
            "CountVectorizer Accuracy: 1.00\n",
            "              precision    recall  f1-score   support\n",
            "\n",
            "    negative       1.00      1.00      1.00        22\n",
            "    positive       1.00      1.00      1.00        18\n",
            "\n",
            "    accuracy                           1.00        40\n",
            "   macro avg       1.00      1.00      1.00        40\n",
            "weighted avg       1.00      1.00      1.00        40\n",
            "\n",
            "TF-IDF Accuracy: 1.00\n",
            "              precision    recall  f1-score   support\n",
            "\n",
            "    negative       1.00      1.00      1.00        22\n",
            "    positive       1.00      1.00      1.00        18\n",
            "\n",
            "    accuracy                           1.00        40\n",
            "   macro avg       1.00      1.00      1.00        40\n",
            "weighted avg       1.00      1.00      1.00        40\n",
            "\n"
          ]
        }
      ],
      "source": [
        "import pandas as pd\n",
        "from sklearn.model_selection import train_test_split\n",
        "from sklearn.feature_extraction.text import CountVectorizer, TfidfVectorizer\n",
        "from sklearn.linear_model import LogisticRegression\n",
        "from sklearn.metrics import accuracy_score, classification_report\n",
        "\n",
        "# Load the dataset from a CSV file\n",
        "data = pd.read_csv('/content/imdb.csv')  # Ensure this file is in the correct path\n",
        "\n",
        "# Check if the necessary columns are present\n",
        "if 'review' not in data.columns or 'sentiment' not in data.columns:\n",
        "    raise ValueError(\"Dataset must contain 'review' and 'sentiment' columns.\")\n",
        "\n",
        "# Prepare the features and labels\n",
        "X = data['review']\n",
        "y = data['sentiment'].apply(lambda x: 1 if x == 'positive' else 0)\n",
        "\n",
        "# Split data into training and testing sets\n",
        "X_train, X_test, y_train, y_test = train_test_split(X, y, test_size=0.2, random_state=42)\n",
        "\n",
        "# Vectorize the text data (using CountVectorizer)\n",
        "vectorizer = CountVectorizer(stop_words='english')\n",
        "X_train_vec = vectorizer.fit_transform(X_train)\n",
        "X_test_vec = vectorizer.transform(X_test)\n",
        "\n",
        "# Initialize and train the model\n",
        "model = LogisticRegression(max_iter=1000)  # Increased max_iter to ensure convergence\n",
        "model.fit(X_train_vec, y_train)\n",
        "\n",
        "# Predict on the test data\n",
        "y_pred = model.predict(X_test_vec)\n",
        "\n",
        "# Evaluate the model\n",
        "accuracy = accuracy_score(y_test, y_pred)\n",
        "print(f\"CountVectorizer Accuracy: {accuracy:.2f}\")\n",
        "print(classification_report(y_test, y_pred, target_names=['negative', 'positive']))\n",
        "\n",
        "# Use TfidfVectorizer for improved feature extraction\n",
        "tfidf_vectorizer = TfidfVectorizer(stop_words='english', max_df=0.7)\n",
        "X_train_tfidf = tfidf_vectorizer.fit_transform(X_train)\n",
        "X_test_tfidf = tfidf_vectorizer.transform(X_test)\n",
        "\n",
        "# Retrain and re-evaluate using TF-IDF features\n",
        "model.fit(X_train_tfidf, y_train)\n",
        "y_pred_tfidf = model.predict(X_test_tfidf)\n",
        "\n",
        "accuracy_tfidf = accuracy_score(y_test, y_pred_tfidf)\n",
        "print(f\"TF-IDF Accuracy: {accuracy_tfidf:.2f}\")\n",
        "print(classification_report(y_test, y_pred_tfidf, target_names=['negative', 'positive']))"
      ]
    },
    {
      "cell_type": "code",
      "source": [
        "import pandas as pd\n",
        "from sklearn.model_selection import train_test_split\n",
        "from sklearn.feature_extraction.text import TfidfVectorizer\n",
        "from sklearn.linear_model import LogisticRegression\n",
        "from sklearn.metrics import accuracy_score, classification_report\n",
        "\n",
        "# Load the dataset from a CSV file\n",
        "data = pd.read_csv('/content/imdb.csv')  # Ensure this file is in the correct path\n",
        "\n",
        "# Check if the necessary columns are present\n",
        "if 'review' not in data.columns or 'sentiment' not in data.columns:\n",
        "    raise ValueError(\"Dataset must contain 'review' and 'sentiment' columns.\")\n",
        "\n",
        "# Prepare the features and labels\n",
        "X = data['review']\n",
        "y = data['sentiment'].apply(lambda x: 1 if x == 'positive' else 0)\n",
        "\n",
        "# Split data into training and testing sets\n",
        "X_train, X_test, y_train, y_test = train_test_split(X, y, test_size=0.2, random_state=42)\n",
        "\n",
        "# Use TfidfVectorizer for improved feature extraction\n",
        "tfidf_vectorizer = TfidfVectorizer(stop_words='english', max_df=0.7)\n",
        "X_train_tfidf = tfidf_vectorizer.fit_transform(X_train)\n",
        "X_test_tfidf = tfidf_vectorizer.transform(X_test)\n",
        "\n",
        "# Initialize and train the Logistic Regression model\n",
        "model = LogisticRegression(max_iter=1000)  # Increased max_iter to ensure convergence\n",
        "model.fit(X_train_tfidf, y_train)\n",
        "\n",
        "# Predict on the test data\n",
        "y_pred = model.predict(X_test_tfidf)\n",
        "\n",
        "# Evaluate the model\n",
        "accuracy = accuracy_score(y_test, y_pred)\n",
        "print(f\"TF-IDF Accuracy: {accuracy:.2f}\")\n",
        "print(classification_report(y_test, y_pred, target_names=['negative', 'positive']))"
      ],
      "metadata": {
        "colab": {
          "base_uri": "https://localhost:8080/"
        },
        "id": "LaVhp-3WHKLZ",
        "outputId": "42d6f189-388e-4083-c86d-b104ce755edf"
      },
      "execution_count": 6,
      "outputs": [
        {
          "output_type": "stream",
          "name": "stdout",
          "text": [
            "TF-IDF Accuracy: 1.00\n",
            "              precision    recall  f1-score   support\n",
            "\n",
            "    negative       1.00      1.00      1.00        22\n",
            "    positive       1.00      1.00      1.00        18\n",
            "\n",
            "    accuracy                           1.00        40\n",
            "   macro avg       1.00      1.00      1.00        40\n",
            "weighted avg       1.00      1.00      1.00        40\n",
            "\n"
          ]
        }
      ]
    }
  ]
}